{
 "metadata": {
  "name": "connectionArtnet"
 }, 
 "nbformat": 2, 
 "worksheets": [
  {
   "cells": [
    {
     "cell_type": "code", 
     "collapsed": true, 
     "input": [
      "import artnet"
     ], 
     "language": "python", 
     "outputs": [], 
     "prompt_number": 1
    }, 
    {
     "cell_type": "code", 
     "collapsed": false, 
     "input": [
      "def reply_handler(node_handler,i,j):", 
      "    print (\"reply_handler \\n\")", 
      "    "
     ], 
     "language": "python", 
     "outputs": [], 
     "prompt_number": 8
    }, 
    {
     "cell_type": "code", 
     "collapsed": true, 
     "input": [
      "verbose = 1"
     ], 
     "language": "python", 
     "outputs": [], 
     "prompt_number": 9
    }, 
    {
     "cell_type": "code", 
     "collapsed": true, 
     "input": [
      "node= artnet.artnet_new(\"192.168.5.181\", 1)"
     ], 
     "language": "python", 
     "outputs": [], 
     "prompt_number": 10
    }, 
    {
     "cell_type": "code", 
     "collapsed": false, 
     "input": [
      "print node"
     ], 
     "language": "python", 
     "outputs": [
      {
       "output_type": "stream", 
       "stream": "stdout", 
       "text": [
        "_0031200a_p_void"
       ]
      }
     ], 
     "prompt_number": 11
    }, 
    {
     "cell_type": "code", 
     "collapsed": false, 
     "input": [
      "artnet.artnet_set_short_name(node, \"jb node\")", 
      "artnet.artnet_set_long_name (node, \"le node de jb en python\")", 
      "artnet.artnet_set_node_type(node, artnet.ARTNET_SRV)", 
      "artnet.artnet_set_handler(node, artnet.ARTNET_REPLY_HANDLER, reply_handler, 0);", 
      "", 
      "artnet.artnet_start(node)"
     ], 
     "language": "python", 
     "outputs": [
      {
       "ename": "TypeError", 
       "evalue": "in method 'artnet_set_handler', argument 3 of type 'int (*)(artnet_node,void *,void *)'", 
       "output_type": "pyerr", 
       "traceback": [
        "\u001b[0;31m---------------------------------------------------------------------------\u001b[0m\n\u001b[0;31mTypeError\u001b[0m                                 Traceback (most recent call last)", 
        "\u001b[0;32m/home/jerome/Documents/Ola/libartnet-1.1.2/artnet/<ipython-input-12-ceb586fc01f1>\u001b[0m in \u001b[0;36m<module>\u001b[0;34m()\u001b[0m\n\u001b[1;32m      2\u001b[0m \u001b[0martnet\u001b[0m\u001b[0;34m.\u001b[0m\u001b[0martnet_set_long_name\u001b[0m \u001b[0;34m(\u001b[0m\u001b[0mnode\u001b[0m\u001b[0;34m,\u001b[0m \u001b[0;34m\"le node de jb en python\"\u001b[0m\u001b[0;34m)\u001b[0m\u001b[0;34m\u001b[0m\u001b[0m\n\u001b[1;32m      3\u001b[0m \u001b[0martnet\u001b[0m\u001b[0;34m.\u001b[0m\u001b[0martnet_set_node_type\u001b[0m\u001b[0;34m(\u001b[0m\u001b[0mnode\u001b[0m\u001b[0;34m,\u001b[0m \u001b[0martnet\u001b[0m\u001b[0;34m.\u001b[0m\u001b[0mARTNET_SRV\u001b[0m\u001b[0;34m)\u001b[0m\u001b[0;34m\u001b[0m\u001b[0m\n\u001b[0;32m----> 4\u001b[0;31m \u001b[0martnet\u001b[0m\u001b[0;34m.\u001b[0m\u001b[0martnet_set_handler\u001b[0m\u001b[0;34m(\u001b[0m\u001b[0mnode\u001b[0m\u001b[0;34m,\u001b[0m \u001b[0martnet\u001b[0m\u001b[0;34m.\u001b[0m\u001b[0mARTNET_REPLY_HANDLER\u001b[0m\u001b[0;34m,\u001b[0m \u001b[0mreply_handler\u001b[0m\u001b[0;34m,\u001b[0m \u001b[0;36m0\u001b[0m\u001b[0;34m)\u001b[0m\u001b[0;34m;\u001b[0m\u001b[0;34m\u001b[0m\u001b[0m\n\u001b[0m\u001b[1;32m      5\u001b[0m \u001b[0;34m\u001b[0m\u001b[0m\n\u001b[1;32m      6\u001b[0m \u001b[0martnet\u001b[0m\u001b[0;34m.\u001b[0m\u001b[0martnet_start\u001b[0m\u001b[0;34m(\u001b[0m\u001b[0mnode\u001b[0m\u001b[0;34m)\u001b[0m\u001b[0;34m\u001b[0m\u001b[0m\n", 
        "\u001b[0;31mTypeError\u001b[0m: in method 'artnet_set_handler', argument 3 of type 'int (*)(artnet_node,void *,void *)'"
       ]
      }
     ], 
     "prompt_number": 12
    }, 
    {
     "cell_type": "code", 
     "collapsed": false, 
     "input": [
      "artnet.artnet_destroy(node)"
     ], 
     "language": "python", 
     "outputs": [], 
     "prompt_number": 5
    }, 
    {
     "cell_type": "code", 
     "collapsed": true, 
     "input": [], 
     "language": "python", 
     "outputs": []
    }
   ]
  }
 ]
}